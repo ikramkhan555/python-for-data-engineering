{
  "nbformat": 4,
  "nbformat_minor": 0,
  "metadata": {
    "colab": {
      "provenance": [],
      "authorship_tag": "ABX9TyOVi5tkBfDuOHFOqzR9031S",
      "include_colab_link": true
    },
    "kernelspec": {
      "name": "python3",
      "display_name": "Python 3"
    },
    "language_info": {
      "name": "python"
    }
  },
  "cells": [
    {
      "cell_type": "markdown",
      "metadata": {
        "id": "view-in-github",
        "colab_type": "text"
      },
      "source": [
        "<a href=\"https://colab.research.google.com/github/ikramkhan555/python-for-data-engineering/blob/dev/Number_system.ipynb\" target=\"_parent\"><img src=\"https://colab.research.google.com/assets/colab-badge.svg\" alt=\"Open In Colab\"/></a>"
      ]
    },
    {
      "cell_type": "code",
      "source": [],
      "metadata": {
        "id": "CAAw4BEapTtl"
      },
      "execution_count": null,
      "outputs": []
    },
    {
      "cell_type": "markdown",
      "source": [
        "# NUMBER SYSTEM SERIES QUESTIONS"
      ],
      "metadata": {
        "id": "m9HZCzXPpXXQ"
      }
    },
    {
      "cell_type": "markdown",
      "source": [
        "1) REVERSE THE DIGIT -------> CASE:1"
      ],
      "metadata": {
        "id": "Kz1bNH7DiGUW"
      }
    },
    {
      "cell_type": "code",
      "source": [
        "num=int(input(\"enter the number\\n\"))"
      ],
      "metadata": {
        "colab": {
          "base_uri": "https://localhost:8080/"
        },
        "id": "uuF6ulz8egBl",
        "outputId": "c45890cc-9774-4e41-800b-c82580b5763c"
      },
      "execution_count": 41,
      "outputs": [
        {
          "name": "stdout",
          "output_type": "stream",
          "text": [
            "enter the number\n",
            "12345\n"
          ]
        }
      ]
    },
    {
      "cell_type": "code",
      "source": [
        "\n",
        "\n",
        "def my_rev(temp):\n",
        "  \"\"\" this function used to reversed the digit\"\"\"\n",
        "  sum=0\n",
        "  rem=0\n",
        "\n",
        "  while temp>0:\n",
        "    rem=temp%10\n",
        "    sum=sum*10+rem\n",
        "    temp=temp//10\n",
        "  return sum\n"
      ],
      "metadata": {
        "id": "Grla-I54fGQg"
      },
      "execution_count": 50,
      "outputs": []
    },
    {
      "cell_type": "code",
      "source": [
        "num1=my_rev(num)\n",
        "print(num1)"
      ],
      "metadata": {
        "colab": {
          "base_uri": "https://localhost:8080/"
        },
        "id": "OLlvwyDyfGR4",
        "outputId": "5f29c523-4b2a-4423-f901-b22d6ed8291a"
      },
      "execution_count": 51,
      "outputs": [
        {
          "output_type": "stream",
          "name": "stdout",
          "text": [
            "54321\n"
          ]
        }
      ]
    },
    {
      "cell_type": "code",
      "source": [],
      "metadata": {
        "id": "8EWlc6V-fGVi"
      },
      "execution_count": null,
      "outputs": []
    },
    {
      "cell_type": "markdown",
      "source": [
        " 2) REVERSE DIGIT ------>CASE:2"
      ],
      "metadata": {
        "id": "aEuzmqPTiARw"
      }
    },
    {
      "cell_type": "code",
      "source": [
        "num=input(\"enter the number...\\n\")\n"
      ],
      "metadata": {
        "colab": {
          "base_uri": "https://localhost:8080/"
        },
        "id": "uNKk46upkRZ9",
        "outputId": "02ff578f-7aa3-4908-c5d6-29b595d1e310"
      },
      "execution_count": 28,
      "outputs": [
        {
          "name": "stdout",
          "output_type": "stream",
          "text": [
            "enter the number...\n",
            "12345\n"
          ]
        }
      ]
    },
    {
      "cell_type": "code",
      "source": [
        "print(num[::-1])"
      ],
      "metadata": {
        "colab": {
          "base_uri": "https://localhost:8080/"
        },
        "id": "q0yt4uTzkZw2",
        "outputId": "24cb7dd7-2635-449e-a7a8-cc1b4c18d1d9"
      },
      "execution_count": 30,
      "outputs": [
        {
          "output_type": "stream",
          "name": "stdout",
          "text": [
            "54321\n"
          ]
        }
      ]
    },
    {
      "cell_type": "markdown",
      "source": [
        "3) SUM OF DIGITS ------>CASE:1"
      ],
      "metadata": {
        "id": "SdYkcc7MlAMl"
      }
    },
    {
      "cell_type": "code",
      "source": [
        "num=int(input(\"enter the number....\\n\"))\n"
      ],
      "metadata": {
        "colab": {
          "base_uri": "https://localhost:8080/"
        },
        "id": "Wx_Lmv-Ckr0D",
        "outputId": "79bf4e88-c7b4-4230-cf93-e196c44b7ff3"
      },
      "execution_count": 47,
      "outputs": [
        {
          "name": "stdout",
          "output_type": "stream",
          "text": [
            "enter the number....\n",
            "12345\n"
          ]
        }
      ]
    },
    {
      "cell_type": "code",
      "source": [
        "def my_sum(x):\n",
        "  \"\"\" this function is used to sum of given number\"\"\"\n",
        "  sum=0\n",
        "  # temp=num\n",
        "  while x>0:\n",
        "    rem=x%10\n",
        "    sum=sum+rem\n",
        "    x=x//10\n",
        "  return sum\n",
        "\n"
      ],
      "metadata": {
        "id": "T0fTsu7xlLzx"
      },
      "execution_count": 48,
      "outputs": []
    },
    {
      "cell_type": "code",
      "source": [
        "num1=my_sum(num)\n",
        "print(num1)"
      ],
      "metadata": {
        "colab": {
          "base_uri": "https://localhost:8080/"
        },
        "id": "I6TLNvvBmKTL",
        "outputId": "8d562c88-326f-4b3f-8adb-6450d94b69d3"
      },
      "execution_count": 49,
      "outputs": [
        {
          "output_type": "stream",
          "name": "stdout",
          "text": [
            "15\n"
          ]
        }
      ]
    },
    {
      "cell_type": "markdown",
      "source": [
        "4) SUM OF DIGITS ------>CASE:2"
      ],
      "metadata": {
        "id": "tJkBQKQTpMfA"
      }
    },
    {
      "cell_type": "code",
      "source": [
        "num=input(\"enter the number\\n\")"
      ],
      "metadata": {
        "colab": {
          "base_uri": "https://localhost:8080/"
        },
        "id": "kdBVaW_smbSN",
        "outputId": "83d71bf8-d9ff-4413-995d-c0769d0b6f92"
      },
      "execution_count": 52,
      "outputs": [
        {
          "name": "stdout",
          "output_type": "stream",
          "text": [
            "enter the number\n",
            "12345\n"
          ]
        }
      ]
    },
    {
      "cell_type": "code",
      "source": [
        "sum=0\n",
        "for digit in num:\n",
        "  sum=sum+int(digit)\n",
        "print(sum)\n"
      ],
      "metadata": {
        "colab": {
          "base_uri": "https://localhost:8080/"
        },
        "id": "VCNqNmslouyK",
        "outputId": "add2a3e9-3fa0-4e88-ed86-7534cbbdbda1"
      },
      "execution_count": 55,
      "outputs": [
        {
          "output_type": "stream",
          "name": "stdout",
          "text": [
            "15\n"
          ]
        }
      ]
    },
    {
      "cell_type": "markdown",
      "source": [
        "4) ARMSTRONG NUMBER"
      ],
      "metadata": {
        "id": "0BEUeyRhqO85"
      }
    },
    {
      "cell_type": "code",
      "source": [
        "num=int(input(\"enter the number\\n\"))\n"
      ],
      "metadata": {
        "colab": {
          "base_uri": "https://localhost:8080/"
        },
        "id": "gnDTFeywqOjl",
        "outputId": "7c00b472-a0a0-446a-809c-b02d28a95bc3"
      },
      "execution_count": 88,
      "outputs": [
        {
          "name": "stdout",
          "output_type": "stream",
          "text": [
            "enter the number\n",
            "154\n"
          ]
        }
      ]
    },
    {
      "cell_type": "code",
      "source": [
        "def my_armstrong(x):\n",
        "  \"\"\" this function is used to check armstrong number\"\"\"\n",
        "  temp=x\n",
        "  sum=0\n",
        "  rem=0\n",
        "  while temp >0:\n",
        "    rem=temp%10\n",
        "    sum=sum+rem**3\n",
        "    temp=temp//10\n",
        "  if int(x)==sum:\n",
        "    return print(\"given number is armstrong\\n\")\n",
        "  else:\n",
        "    return print(\"not armstrong\\n\")\n"
      ],
      "metadata": {
        "id": "aT5IkIdzo6w5"
      },
      "execution_count": 100,
      "outputs": []
    },
    {
      "cell_type": "code",
      "source": [
        "num1=my_armstrong(154)"
      ],
      "metadata": {
        "colab": {
          "base_uri": "https://localhost:8080/"
        },
        "id": "HAXFs1xdseTM",
        "outputId": "fd60cb3c-bd5b-49ad-b8bc-b6a95862cace"
      },
      "execution_count": 102,
      "outputs": [
        {
          "output_type": "stream",
          "name": "stdout",
          "text": [
            "not armstrong\n",
            "\n"
          ]
        }
      ]
    },
    {
      "cell_type": "markdown",
      "source": [
        "5) FACTORIAL OF GIVEN NUMBER------>  CASE:1"
      ],
      "metadata": {
        "id": "DbQbKznU1Z7W"
      }
    },
    {
      "cell_type": "code",
      "source": [
        "def my_fact(num):\n",
        "  fact=1\n",
        "  while num>0:\n",
        "    fact=fact*num\n",
        "    num=num-1\n",
        "  return (fact)"
      ],
      "metadata": {
        "id": "LiQY1Le6s-4T"
      },
      "execution_count": 154,
      "outputs": []
    },
    {
      "cell_type": "code",
      "source": [
        "num=my_fact(6)\n",
        "print(num)"
      ],
      "metadata": {
        "colab": {
          "base_uri": "https://localhost:8080/"
        },
        "id": "cOMTPdPZ3f11",
        "outputId": "fa0d401f-e405-429a-b2f9-6c052f78b32d"
      },
      "execution_count": 155,
      "outputs": [
        {
          "output_type": "stream",
          "name": "stdout",
          "text": [
            "720\n"
          ]
        }
      ]
    },
    {
      "cell_type": "markdown",
      "source": [
        "4) FACTORIAL OF GIVEN NUMBER -----> CASE:2"
      ],
      "metadata": {
        "id": "jaszMCKi_bXp"
      }
    },
    {
      "cell_type": "code",
      "source": [
        "def my_fact(num):\n",
        "  x=1\n",
        "  for i in range(1,num+1):\n",
        "     x=x*i\n",
        "     print(x)\n",
        "  return x"
      ],
      "metadata": {
        "id": "kXiaeRs_3jnH"
      },
      "execution_count": 152,
      "outputs": []
    },
    {
      "cell_type": "code",
      "source": [
        "fact=my_fact(4)\n",
        "print(fact)"
      ],
      "metadata": {
        "colab": {
          "base_uri": "https://localhost:8080/"
        },
        "id": "-ImiDnrm6GLb",
        "outputId": "5d20b5fe-d907-46bc-baa8-9d268bfc52a9"
      },
      "execution_count": 153,
      "outputs": [
        {
          "output_type": "stream",
          "name": "stdout",
          "text": [
            "1\n",
            "2\n",
            "6\n",
            "24\n",
            "24\n"
          ]
        }
      ]
    },
    {
      "cell_type": "markdown",
      "source": [
        "4) FACTORIAL OF GIVEN NUMBER USING RECURSION\n"
      ],
      "metadata": {
        "id": "O0WATB9z_KSo"
      }
    },
    {
      "cell_type": "code",
      "source": [
        "def my_fact(num):\n",
        "  if num==0:\n",
        "    return 1\n",
        "  else:\n",
        "    return num*my_fact(num-1)"
      ],
      "metadata": {
        "id": "JHDp3eqt_kIw"
      },
      "execution_count": 158,
      "outputs": []
    },
    {
      "cell_type": "code",
      "source": [
        "fact=my_fact(6)\n",
        "print(fact)"
      ],
      "metadata": {
        "colab": {
          "base_uri": "https://localhost:8080/"
        },
        "id": "Yx9aWaH2_knj",
        "outputId": "db49b1fa-d3a9-4978-bc5f-2fba03b367fd"
      },
      "execution_count": 160,
      "outputs": [
        {
          "output_type": "stream",
          "name": "stdout",
          "text": [
            "720\n"
          ]
        }
      ]
    },
    {
      "cell_type": "markdown",
      "source": [
        "5) PRIME NUMBER"
      ],
      "metadata": {
        "id": "CEHuaFPFAQ8d"
      }
    },
    {
      "cell_type": "code",
      "source": [
        "def my_prime(num):\n",
        "  \"\"\" this function is used to check given number is prime or not\"\"\"\n",
        "  i=2\n",
        "  count=1\n",
        "  while i<=num:\n",
        "    if num%i==0:\n",
        "      count=count+1\n",
        "    i=i+1\n",
        "\n",
        "  return count"
      ],
      "metadata": {
        "id": "TuVrVngQAa-j"
      },
      "execution_count": 197,
      "outputs": []
    },
    {
      "cell_type": "code",
      "source": [
        "num1=my_prime(97)\n",
        "if(num1==2):\n",
        "  print(\"given number is prime\\n\")\n",
        "else:\n",
        "  print(\"not prime number\\n\")"
      ],
      "metadata": {
        "colab": {
          "base_uri": "https://localhost:8080/"
        },
        "id": "DwN94tB2BqG6",
        "outputId": "7ff696e9-7df9-4e4f-850b-2c05557078f6"
      },
      "execution_count": 199,
      "outputs": [
        {
          "output_type": "stream",
          "name": "stdout",
          "text": [
            "given number is prime\n",
            "\n"
          ]
        }
      ]
    },
    {
      "cell_type": "markdown",
      "source": [
        "6) PERFECT NUMBER"
      ],
      "metadata": {
        "id": "Vj-mUOR0HavW"
      }
    },
    {
      "cell_type": "code",
      "source": [
        "def my_perfect(num):\n",
        "  \"\"\"this function is used to find given numer is perfect or not\"\"\"\n",
        "  sum=0\n",
        "  i=1\n",
        "  while i<num:\n",
        "    if num%i==0:\n",
        "      sum=sum+i\n",
        "    i=i+1\n",
        "    print(i)\n",
        "  return sum\n",
        "  print(sum)\n",
        ""
      ],
      "metadata": {
        "id": "lDPwGIZ-HgDY"
      },
      "execution_count": 211,
      "outputs": []
    },
    {
      "cell_type": "code",
      "source": [
        "num1=my_perfect(8)\n",
        "print(num1,sum)\n",
        "if num1==6:\n",
        "  print(\"given number is perfect\\n\")\n",
        "else:\n",
        "  print(\"not perfect number...\\n\")"
      ],
      "metadata": {
        "colab": {
          "base_uri": "https://localhost:8080/"
        },
        "id": "SJaJ6U5YBybR",
        "outputId": "8612c597-3a73-4e02-ebaa-f17b394d6207"
      },
      "execution_count": 216,
      "outputs": [
        {
          "output_type": "stream",
          "name": "stdout",
          "text": [
            "2\n",
            "3\n",
            "4\n",
            "5\n",
            "6\n",
            "7\n",
            "8\n",
            "7 15\n",
            "not perfect number...\n",
            "\n"
          ]
        }
      ]
    },
    {
      "cell_type": "code",
      "source": [
        "\n",
        "def my_perfect(num):\n",
        "  sum=0\n",
        "  for i in range(1,num):\n",
        "    if num%i==0:\n",
        "      sum=sum+i\n",
        "  i=i+1\n",
        "  if num==sum:\n",
        "    print(\"perfect number\\n\")\n",
        "  else:\n",
        "    print(\"not perfect\\n\")\n"
      ],
      "metadata": {
        "id": "1_FRc2rbHgPo"
      },
      "execution_count": 222,
      "outputs": []
    },
    {
      "cell_type": "code",
      "source": [
        "n=my_perfect(29)\n"
      ],
      "metadata": {
        "colab": {
          "base_uri": "https://localhost:8080/"
        },
        "id": "w4Rp8bZCLdzd",
        "outputId": "dd11d40a-9a98-48a7-b940-9af30b3b6c88"
      },
      "execution_count": 227,
      "outputs": [
        {
          "output_type": "stream",
          "name": "stdout",
          "text": [
            "not perfect\n",
            "\n"
          ]
        }
      ]
    },
    {
      "cell_type": "markdown",
      "source": [],
      "metadata": {
        "id": "AwUe5NYtUto5"
      }
    },
    {
      "cell_type": "markdown",
      "source": [
        "5) PERFECT NUBER IN RANGE"
      ],
      "metadata": {
        "id": "fhCkKEvUYjC8"
      }
    },
    {
      "cell_type": "code",
      "source": [
        "for i in range(0,500):\n",
        "  sum=0\n",
        "  for j in range(1,i):\n",
        "    if i%j==0:\n",
        "      sum=sum+j\n",
        "  if(sum==i):\n",
        "    print(i)"
      ],
      "metadata": {
        "colab": {
          "base_uri": "https://localhost:8080/"
        },
        "id": "_7Nz4koVLmnZ",
        "outputId": "55906461-6552-41da-cd80-d1ee2301abe8"
      },
      "execution_count": 260,
      "outputs": [
        {
          "output_type": "stream",
          "name": "stdout",
          "text": [
            "0\n",
            "6\n",
            "28\n",
            "496\n"
          ]
        }
      ]
    },
    {
      "cell_type": "code",
      "source": [
        "def my_perf(x):\n",
        "  \"\"\" this function is used to find perfect number range\"\"\"\n",
        "  for i in range(0,x):\n",
        "   sum=0\n",
        "   for j in range(1,i):\n",
        "     if i%j==0:\n",
        "      sum=sum+j\n",
        "   if(sum==i):\n",
        "    print(sum)\n"
      ],
      "metadata": {
        "id": "xMhnnumYU3ES"
      },
      "execution_count": 269,
      "outputs": []
    },
    {
      "cell_type": "code",
      "source": [
        "n1=my_perf(100)\n"
      ],
      "metadata": {
        "colab": {
          "base_uri": "https://localhost:8080/"
        },
        "id": "qilDfgLEUkQ_",
        "outputId": "d4e369f0-d433-44a3-9374-4324616ad474"
      },
      "execution_count": 273,
      "outputs": [
        {
          "output_type": "stream",
          "name": "stdout",
          "text": [
            "0\n",
            "6\n",
            "28\n"
          ]
        }
      ]
    },
    {
      "cell_type": "code",
      "source": [],
      "metadata": {
        "id": "fRvL8CPhZQXG"
      },
      "execution_count": null,
      "outputs": []
    }
  ]
}